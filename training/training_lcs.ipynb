{
 "cells": [
  {
   "cell_type": "code",
   "execution_count": null,
   "metadata": {
    "id": "7ZkAUiq_PR-h"
   },
   "outputs": [],
   "source": [
    "import pandas as pd\n",
    "import matplotlib.pyplot as plt\n",
    "from sklearn.cluster import DBSCAN\n",
    "from sentence_transformers import SentenceTransformer\n",
    "from sklearn.manifold import TSNE\n",
    "\n",
    "df = pd.read_csv(\"/content/logs.csv\")"
   ]
  },
  {
   "cell_type": "code",
   "execution_count": null,
   "metadata": {
    "colab": {
     "base_uri": "https://localhost:8080/",
     "height": 258
    },
    "id": "84z3asnaP-6c",
    "outputId": "c1d293b0-f53c-4740-c015-a4e8b92e570d"
   },
   "outputs": [],
   "source": [
    "df.head()"
   ]
  },
  {
   "cell_type": "code",
   "execution_count": null,
   "metadata": {
    "colab": {
     "base_uri": "https://localhost:8080/"
    },
    "id": "nK36v0LdQawg",
    "outputId": "16af3835-b848-4cdb-bab5-9560e392d636"
   },
   "outputs": [],
   "source": [
    "df.source.unique()"
   ]
  },
  {
   "cell_type": "code",
   "execution_count": null,
   "metadata": {
    "colab": {
     "base_uri": "https://localhost:8080/"
    },
    "id": "J8_EwRbTQ9IY",
    "outputId": "ccc1f057-af05-4f04-9042-f3667e62c0a7"
   },
   "outputs": [],
   "source": [
    "df.target_label.unique()"
   ]
  },
  {
   "cell_type": "code",
   "execution_count": null,
   "metadata": {
    "colab": {
     "base_uri": "https://localhost:8080/",
     "height": 528,
     "referenced_widgets": [
      "5f3be360b6ba47e8b00ceea5fb42831c",
      "d7e59b44d51041b897af97da229b16da",
      "4915e05a6d9342a5a0fe2f50e1a8ba94",
      "1becb96bcaf14c71b8e5181d9b5232bd",
      "cf794fdc5a9d456fa7a1ba1a97e711e3",
      "14803542590c4df2ac67394331edbcb9",
      "403f80ed57914fb3a8e99e73ce160a90",
      "6f0bbbbf019348eaad9493a0e7cf2b33",
      "0b7b9ce405ee46458fd8a221685b89a2",
      "15e1f73ba9d84652870d03f46779c534",
      "02d441e99900411aaa49bc9945383f79",
      "2672ba99d5694d8d9499dbee71f455eb",
      "8adec793ee2d4eb2a0af7181d34411e3",
      "7fcdd686d88f4fcba761108e49d23066",
      "58187f59c6284dc7917b89aca73c6e85",
      "673f76dfd01d49c7911b3b4e2149cefc",
      "5c13130a7dbe45fbb4de2e90cac49181",
      "fc9c6bcd7686434eac0e7717393c2ff8",
      "5b1eea71015f40c89e3c228350566c82",
      "c2d4a085bcd8464e811209d5a9121ba5",
      "bdbf3c4ee67449e3b340a8a8d6e0690d",
      "836c08d69e0949e4a6d3583d4ca534a7",
      "ffc65b5386924266badc637c789884a7",
      "99973471e7ea4f83ad19cf9c2162ef65",
      "4318d6030c614075a7b2dfa3667e98bb",
      "bd22ef7e66d544e4814815af0820423d",
      "726344da9a614166a58a8b3898a80b65",
      "b2ae20d750e049c9b236b9c661f8fb4a",
      "9695a68b1a3e469fba0aa3d27ee251b1",
      "7e590f3b90e043bd8a51a0813262d61c",
      "3c280a5e75a04558af4c950b200d51ed",
      "7dfb96137020401c9798e677f1942155",
      "5e4c100020ff41ebb3caf6cb88b88758",
      "ca7ac6497eb2476094354b1f23fd5930",
      "26e9fc4e4d8d4ef3916bd408cffaf8bc",
      "a9b5efbe1f9b4b7f91494ad0a583c99f",
      "e89e6eb8ff0e404c957a3ba5c70f5db9",
      "4b327095e2ab440d8fbf7abd4f469c36",
      "70e249c085f24857914753815dc91025",
      "82a4c7c98368486c8b702cb2d8cdd250",
      "737e2d4aecaf4a96bddab62b6000cf88",
      "cd7d0b18db424d61ba99ed9d6b92924a",
      "5d10d4e0788c4b0a9448bacab1865e4c",
      "f7e57bef8c54450ca1c5899c6aec26be",
      "4476b37afa7342b6b1e83b73c6a1becd",
      "0733bbeca9584e91a23e0bc12b5fdc5b",
      "17c92a47bf8b456aaab66d625c237a2c",
      "b8477dafee5c471981e077a1fb15b39c",
      "4fb9c8e62c884af780c64a7be7803846",
      "fbca36d73d764e2080dc8e1df1262a3b",
      "3c9959e701f34d848abd0e9885660967",
      "4fccc7ca3afb4900a60ee1ade4af4c78",
      "0e771088206f469a808119478981fa6f",
      "44c74c98f4ce4b2fa59a6b00e0fe4798",
      "96cb71b858134b35be4d02522714045b",
      "77e7d239637349fd9867d2ffa80c09df",
      "9f2b6293beca4686a247226642a9e390",
      "137dea8aef754851be484acd76dced5b",
      "c3f9486d080c439d91003e8acc1b4335",
      "70a08149397c49d681fa9d90acab9777",
      "ecf747ff650844dcb1a53a4d0b671904",
      "b9023d9f877b4d24a0b70a7d1a5d79c1",
      "9b7893178fec4e069f33fd98d13ca175",
      "c2884b72b3a44561a496efe53e8c1872",
      "4b75095bcd7b45e687d1c44e0ef55771",
      "2f9629a78c554dbcaa4d3290dcc89f8b",
      "f6c2e34d76b24e6a821a43f8e38d397c",
      "6071aff68091499fbebe0a8154d1026e",
      "1703228cdbc84276bbd76165a2bdf1fb",
      "0c1a08f19a0d4565b3331a208cfe9421",
      "4fdff37c131f4118be5c4ac4ba8e6d0b",
      "6340f8b0a57d4d9a9d70a59abc3e13c4",
      "2110ebd35390430b8821c576993cf48d",
      "f036fb512dbe4ec09a0f4f2729faef27",
      "0fe0f7a9525b454982241107115b52de",
      "f47e25a490a34f5daf9307481f76ce22",
      "f6e5fe7c2484416780c7dcf1c0e7d61b",
      "8083e54faff9456888dc0cc77402bd42",
      "b75a06e5e36940328aa8f82c4cada0a8",
      "382d232ce71e43cfba20b4ac173a0ea6",
      "60c717a1a17d48839272fac376c57399",
      "4d9998e70046458b9751849b59485bc7",
      "c2407f46664340a2b356392c9a08e21d",
      "e8c9215d582445169634c1672e17c5a5",
      "35aed2b4bfc84842b406607f72394c14",
      "df970b4e0c654484914cdeb2fc945c86",
      "dfa750e598cf49209694f50836ff3e47",
      "bcca423a3ea6416fbb8c625656ee64c1",
      "e87c2589a62040d497a94b7bbf1b50e1",
      "7b9f363e7433495195237e33e1210238",
      "edf7cb9e13094314bf682bf88fd09751",
      "f8636ca5f4bd4244961766ea8bf44262",
      "e7c529f30b4a405e8748053302639d8f",
      "92707e8c6a424d76af4636a25e53905f",
      "b2f346fc000a462d8db9493f2fe9ed15",
      "7508370338d94522af26abfdd005c7e1",
      "e40723a1fba040a9b34fe3753bd88168",
      "05e5f4f1c6914984b7f242f1fb42e1bb",
      "e6924202794641d98c6d9fb59dfbc93e",
      "e0196feb184f426b958feaa2bec46d26",
      "36f6304b496f43b19216d4f9e5e9f404",
      "5cae0d8f4c8d4ff18d2b216508103e40",
      "bd834d7022d44fa08857b1b3ee7e6766",
      "0cd7d2e9a97842dbb819e0c5a3451477",
      "a4a7baa7bb674588b55fdabf27e80af9",
      "c255ace7905544549eef01df0ce1734c",
      "a556f1a45e0649f4bf242a62540381b7",
      "64b0fc5ed7a34242b7fbbb2d170eb0b8",
      "63da995b86bb4c9297bc193cd64771e8",
      "d414da479b0a46d0927e6a75b8daa6fc",
      "ea6b14a8ef6c4dbbb2ee86fd09fb8196",
      "865625235ca64dee810e7ade9bc1a9cd",
      "b6f1fa8f58d74a8c96226ff674c26e96",
      "9581624bcfb848608a949b4907ea5f77",
      "a38f1a0fdaf74ffcada0be2f2fd63edb",
      "d72c154de9114a6bb0bbf8a020638a6b",
      "5b0cdf6f5187468281fead6d80b9e8f4",
      "9dd684bf167a49239c75191b94c977b4",
      "1df66f6f01ef4845a453c7ff5b82f1d0",
      "d8406c4055684d4394d0a77f8ca8b5c2",
      "8b02b856d164470aa6c8674aacc29102"
     ]
    },
    "id": "okTd2VVqWwNp",
    "outputId": "7b2a5a3b-468c-4231-de22-2d96f84cecfe"
   },
   "outputs": [],
   "source": [
    "#embedding model\n",
    "model = SentenceTransformer('all-MiniLM-L6-v2')\n",
    "embeddings = model.encode(df['log_message'].tolist())"
   ]
  },
  {
   "cell_type": "code",
   "execution_count": null,
   "metadata": {
    "colab": {
     "base_uri": "https://localhost:8080/"
    },
    "id": "3Eg9HxM2Wxir",
    "outputId": "644dba81-b189-4745-9cd2-d419f1dac399"
   },
   "outputs": [],
   "source": [
    "embeddings[:5]"
   ]
  },
  {
   "cell_type": "code",
   "execution_count": null,
   "metadata": {
    "id": "PvT-3C1rWy-m"
   },
   "outputs": [],
   "source": [
    "#DBSCAN\n",
    "\n",
    "dbs = DBSCAN(eps=0.2, min_samples=1, metric='cosine')\n",
    "clusters = dbs.fit_predict(embeddings)\n",
    "\n",
    "df['cluster'] = clusters"
   ]
  },
  {
   "cell_type": "code",
   "execution_count": null,
   "metadata": {
    "colab": {
     "base_uri": "https://localhost:8080/",
     "height": 276
    },
    "id": "S4WZi2xOZEiP",
    "outputId": "daf2f408-21d6-4cdc-b460-d03e54acc2dc"
   },
   "outputs": [],
   "source": [
    "df.head()\n",
    "df[df.cluster==1]\n",
    "df.head()"
   ]
  },
  {
   "cell_type": "code",
   "execution_count": null,
   "metadata": {
    "colab": {
     "base_uri": "https://localhost:8080/",
     "height": 564
    },
    "id": "9X7AvTujZ4yO",
    "outputId": "16aa7054-a339-4e41-e2f7-6242240bd3d2"
   },
   "outputs": [],
   "source": [
    "#Reduce dimensions to 2D for visualization\n",
    "\n",
    "tsne = TSNE(n_components=2, random_state=42)\n",
    "points_2d = tsne.fit_transform(embeddings)\n",
    "\n",
    "plt.figure(figsize=(10, 6))\n",
    "\n",
    "for cluster_num in set(clusters):\n",
    "    # Get points for this cluster\n",
    "    mask = (clusters == cluster_num)\n",
    "\n",
    "    if cluster_num == -1:  #Noise\n",
    "        plt.scatter(points_2d[mask, 0], points_2d[mask, 1],\n",
    "                    c='gray', label='Noise', alpha=0.5)\n",
    "    else:  #Regular clusters\n",
    "        plt.scatter(points_2d[mask, 0], points_2d[mask, 1],\n",
    "                    label=f'Cluster {cluster_num}')\n",
    "\n",
    "plt.title(f\"DBSCAN Clustering (Found {len(set(clusters))-1} clusters)\")\n",
    "plt.xlabel(\"Dimension 1\")\n",
    "plt.ylabel(\"Dimension 2\")\n",
    "plt.show()"
   ]
  },
  {
   "cell_type": "code",
   "execution_count": null,
   "metadata": {
    "colab": {
     "base_uri": "https://localhost:8080/",
     "height": 276
    },
    "id": "Wloi-01O0EV9",
    "outputId": "4ba08f42-d31e-4c6b-c9ed-d53a4bacc236"
   },
   "outputs": [],
   "source": [
    "df[df.cluster==1]\n",
    "df.head()"
   ]
  },
  {
   "cell_type": "code",
   "execution_count": null,
   "metadata": {
    "colab": {
     "base_uri": "https://localhost:8080/"
    },
    "id": "c0FJu8UO0GXu",
    "outputId": "4248fe02-8a71-4301-d61e-db285612e4a2"
   },
   "outputs": [],
   "source": [
    "cluster_counts = df['cluster'].value_counts()\n",
    "large_clusters = cluster_counts[cluster_counts >10].index\n",
    "\n",
    "for cluster in large_clusters:\n",
    "  print(f\"Cluster{cluster}:\")\n",
    "  print(df[df['cluster'] == cluster]['log_message'].head(5).to_string(index=False))"
   ]
  },
  {
   "cell_type": "code",
   "execution_count": null,
   "metadata": {
    "id": "biA6ys3I2UQH"
   },
   "outputs": [],
   "source": [
    "import re\n",
    "def classify_with_regex(log_message):\n",
    "    regex_patterns = {\n",
    "        r\"User User\\d+ logged (in|out).\": \"User Action\",\n",
    "        r\"Backup (started|ended) at .*\": \"System Notification\",\n",
    "        r\"Backup completed successfully.\": \"System Notification\",\n",
    "        r\"System updated to version .*\": \"System Notification\",\n",
    "        r\"File .* uploaded successfully by user .*\": \"System Notification\",\n",
    "        r\"Disk cleanup completed successfully.\": \"System Notification\",\n",
    "        r\"System reboot initiated by user .*\": \"System Notification\",\n",
    "        r\"Account with ID .* created by .*\": \"User Action\"\n",
    "    }\n",
    "    for pattern, label in regex_patterns.items():\n",
    "        if re.search(pattern, log_message, re.IGNORECASE):\n",
    "            return label\n",
    "    return None"
   ]
  },
  {
   "cell_type": "markdown",
   "metadata": {
    "id": "C05f6TA941k0"
   },
   "source": []
  },
  {
   "cell_type": "code",
   "execution_count": null,
   "metadata": {
    "colab": {
     "base_uri": "https://localhost:8080/"
    },
    "id": "TMoiv7R54bBE",
    "outputId": "adfe9a69-1ec4-48d1-c439-44d08eef6c9c"
   },
   "outputs": [],
   "source": [
    "result = classify_with_regex(\"User User494 logged OUT.\")\n",
    "print(result)"
   ]
  },
  {
   "cell_type": "code",
   "execution_count": null,
   "metadata": {
    "colab": {
     "base_uri": "https://localhost:8080/"
    },
    "id": "m-_sJ6d2dis7",
    "outputId": "0f43a55f-81b6-40d5-d2e5-cb41b85ba6f7"
   },
   "outputs": [],
   "source": [
    "df.shape"
   ]
  },
  {
   "cell_type": "code",
   "execution_count": null,
   "metadata": {
    "colab": {
     "base_uri": "https://localhost:8080/",
     "height": 704
    },
    "id": "gKyXQaZA4lUH",
    "outputId": "370238a4-3d4e-4a1f-f5b7-a9b510912ec3"
   },
   "outputs": [],
   "source": [
    "df['regex_label'] = df['log_message'].apply(classify_with_regex)\n",
    "df[df.regex_label.isna()]"
   ]
  },
  {
   "cell_type": "code",
   "execution_count": null,
   "metadata": {
    "colab": {
     "base_uri": "https://localhost:8080/",
     "height": 632
    },
    "id": "Z8cm01Bsc-e0",
    "outputId": "1ee34d64-a2cb-411c-82fe-42c2407d5c5d"
   },
   "outputs": [],
   "source": [
    "df[df.regex_label.notnull()]"
   ]
  },
  {
   "cell_type": "code",
   "execution_count": null,
   "metadata": {
    "colab": {
     "base_uri": "https://localhost:8080/",
     "height": 704
    },
    "id": "I9mnuL5GdmTG",
    "outputId": "a73c61ce-6095-4f33-877d-7ad9d775905c"
   },
   "outputs": [],
   "source": [
    "df_non_regex = df[df['regex_label'].isna()].copy()\n",
    "df_non_regex"
   ]
  },
  {
   "cell_type": "code",
   "execution_count": null,
   "metadata": {
    "colab": {
     "base_uri": "https://localhost:8080/"
    },
    "id": "BxN2EOThgt-0",
    "outputId": "dd19bb52-d83a-4da2-f45c-69157edf97b2"
   },
   "outputs": [],
   "source": [
    "print(df_non_regex['target_label'].value_counts())\n",
    "\n",
    "rare_categories = df_non_regex['target_label'].value_counts()[df_non_regex['target_label'].value_counts() <= 5].index.tolist()\n",
    "print(rare_categories)"
   ]
  },
  {
   "cell_type": "code",
   "execution_count": null,
   "metadata": {
    "id": "XNYcGSlNhYgv"
   },
   "outputs": [],
   "source": [
    "df_non_legacy = df_non_regex[df_non_regex.source!='LegacyCRM']\n"
   ]
  },
  {
   "cell_type": "code",
   "execution_count": null,
   "metadata": {
    "colab": {
     "base_uri": "https://localhost:8080/"
    },
    "id": "hz7Gca4whxfp",
    "outputId": "d17415e1-e71f-48b2-8460-eff11d14552a"
   },
   "outputs": [],
   "source": [
    "df_non_legacy.source.unique()"
   ]
  },
  {
   "cell_type": "code",
   "execution_count": null,
   "metadata": {
    "id": "SNzStsVoh_yt"
   },
   "outputs": [],
   "source": [
    "#embeddings for Bert for encoding\n",
    "\n",
    "filtered_embeddings = model.encode(df_non_legacy['log_message'].tolist())"
   ]
  },
  {
   "cell_type": "code",
   "execution_count": null,
   "metadata": {
    "colab": {
     "base_uri": "https://localhost:8080/"
    },
    "id": "l1hSdQIxi3G5",
    "outputId": "f9507913-ddb8-4c7a-be89-c1292f6e327a"
   },
   "outputs": [],
   "source": [
    "from sklearn.model_selection import train_test_split\n",
    "from sklearn.linear_model import LogisticRegression\n",
    "from sklearn.metrics import classification_report\n",
    "X = filtered_embeddings\n",
    "y = df_non_legacy['target_label']\n",
    "\n",
    "X_train, X_test, y_train, y_test = train_test_split(X,y, test_size=0.3, random_state=42)\n",
    "clf = LogisticRegression(max_iter=1000)\n",
    "clf.fit(X_train, y_train)\n",
    "y_pred = clf.predict(X_test)\n",
    "report = classification_report(y_test, y_pred)\n",
    "print(report)"
   ]
  },
  {
   "cell_type": "code",
   "execution_count": null,
   "metadata": {
    "colab": {
     "base_uri": "https://localhost:8080/"
    },
    "id": "DIURJa6GlKfe",
    "outputId": "9c40ee68-05b9-4bc9-d52b-a809aeedf284"
   },
   "outputs": [],
   "source": [
    "import joblibx`\n",
    "joblib.dump(clf,'/content/sample_data/log_classification.joblib')\n"
   ]
  }
 ],
 "metadata": {
  "colab": {
   "provenance": []
  },
  "kernelspec": {
   "display_name": "Python 3",
   "name": "python3"
  },
  "language_info": {
   "name": "python"
  }
 },
 "nbformat": 4,
 "nbformat_minor": 0
}
